{
 "cells": [
  {
   "cell_type": "markdown",
   "id": "3ec1392e-6292-4a6f-bda7-8a66d48d012b",
   "metadata": {},
   "source": [
    "# Исследовательский проект"
   ]
  },
  {
   "cell_type": "markdown",
   "id": "d191e693-67f2-4448-be1c-6167e973ea00",
   "metadata": {},
   "source": [
    "# 1. Постановка проблемы\n",
    "\n",
    "У нас имеется крайне интеренсный СИНТЕТИЧЕСКИЙ датасет о повышениях в компании, мною он был найден на сайте Kaggle (https://www.kaggle.com/shivan118/hranalysis). Как мы видим, написан он с ужасным английским от некого Кумара, что причисляет его к гуру образования в интернете - гражданам Индии. Пусть тогда фирма тоже будет индийской, назавем ее \"Bollywood Champions\". Вроде специфичных для какой-либо отрасли департаментов и прочего не наблюдается, так что пусть наша компнаия будет заниматься созданием кино для местного рынка. Как мы видим из задания на сайте, автор предлагает посмотреть, кто в компании получет повышения (их доля составляет 5% от общего числа). Однако наша проблемы будет интереснее: \n",
    "\n",
    "В голливудской компании возник конфликт: сотрудники требуют четких критериев при повышении: многие из них не понимают, почему они не были повышены тогда, когда эту возомжность получили их \"друзья-лентяии\". Однако разрабатывать четкие критерии отбора нам еще рановато, но мы можем им объяснить на реальных данных, как принимаются решения о повышении. Более того, мы сами лично сможем прогнозировать, какие сотрдуники у нас идут на повышение. Эта информация крайне ценна для компании, ведь мы сможем вкладывать больше ресурсов на удержание наших будущих лидеров, их развитие и обучение.\n",
    "\n",
    "ПРОБЛЕМА1: Выявить, какие факторы влияют на повышения сотрудников в компании.  \n",
    "ПРОБЛЕМА2: Разработать модель, которая будет определять вероятность повышения новых или имеющихся сотрудников.\n",
    "\n",
    "P.S. Очевидно, что на сайте Keggle имеются готовые анализы датасета, но я их, к сожалению, не понимаю во многих моментах, так что буду ориентироваться на знания, полученные в ходе курса. "
   ]
  },
  {
   "cell_type": "markdown",
   "id": "2c147ff3-adbd-4f44-913f-cd5d3e5fb094",
   "metadata": {},
   "source": [
    "# 2. Импорт данных, разведочный анализ данных"
   ]
  },
  {
   "cell_type": "code",
   "execution_count": 492,
   "id": "0e57ab69-acaa-4354-b47d-36ca56957d37",
   "metadata": {},
   "outputs": [],
   "source": [
    "# Импортируем библиотеки для работы с данными\n",
    "import pandas as pd\n",
    "import numpy as np\n",
    "\n",
    "pd.set_option('display.float_format', lambda x: '%.3f' % x)"
   ]
  },
  {
   "cell_type": "code",
   "execution_count": 493,
   "id": "0c4ad344-119c-4e35-8186-7d3bd7e1e13c",
   "metadata": {},
   "outputs": [],
   "source": [
    "# Импортируем библиотеки для рисования\n",
    "\n",
    "import matplotlib.pyplot as plt\n",
    "import seaborn as sns\n",
    "\n",
    "sns.set_theme(style=\"whitegrid\")"
   ]
  },
  {
   "cell_type": "code",
   "execution_count": 494,
   "id": "2072c777-b9e5-4d01-b895-7b7c84245022",
   "metadata": {},
   "outputs": [],
   "source": [
    "# Импортируем еще одну чудную библиотеку -- Numpy!Она предназначена для базовых операций над числами при работе с выборками и лежит в основе Pandas\n",
    "\n",
    "import numpy as np"
   ]
  },
  {
   "cell_type": "code",
   "execution_count": 495,
   "id": "2df0a7ca-a000-4466-b215-525cc17ecb89",
   "metadata": {},
   "outputs": [],
   "source": [
    "# Это нам пригодиться для создания тестового и тренинг сета\n",
    "\n",
    "from sklearn.datasets import make_regression\n",
    "from sklearn.linear_model import LinearRegression\n",
    "\n",
    "from matplotlib import pyplot\n",
    "from sklearn.model_selection import train_test_split\n",
    "\n",
    "from sklearn.metrics import mean_squared_error\n",
    "from sklearn.metrics import r2_score"
   ]
  },
  {
   "cell_type": "code",
   "execution_count": 496,
   "id": "55777cfe-b60f-4924-9f82-b58ab74c1316",
   "metadata": {},
   "outputs": [],
   "source": [
    "# Это нам пригодиться для скалирования\n",
    "from sklearn.preprocessing import MinMaxScaler"
   ]
  },
  {
   "cell_type": "code",
   "execution_count": 497,
   "id": "fa5f8618-8c5d-4db1-8afa-cb5ddca7932b",
   "metadata": {},
   "outputs": [],
   "source": [
    "# Загрузим CSV-файл с данными (CSV-файл лежит рядом с блокнотом)\n",
    "df_hr = pd.read_csv('Promotions database.csv')"
   ]
  },
  {
   "cell_type": "code",
   "execution_count": 498,
   "id": "b79caa04-9478-4b69-837d-347c5973f8ae",
   "metadata": {},
   "outputs": [
    {
     "data": {
      "text/html": [
       "<div>\n",
       "<style scoped>\n",
       "    .dataframe tbody tr th:only-of-type {\n",
       "        vertical-align: middle;\n",
       "    }\n",
       "\n",
       "    .dataframe tbody tr th {\n",
       "        vertical-align: top;\n",
       "    }\n",
       "\n",
       "    .dataframe thead th {\n",
       "        text-align: right;\n",
       "    }\n",
       "</style>\n",
       "<table border=\"1\" class=\"dataframe\">\n",
       "  <thead>\n",
       "    <tr style=\"text-align: right;\">\n",
       "      <th></th>\n",
       "      <th>employee_id</th>\n",
       "      <th>department</th>\n",
       "      <th>region</th>\n",
       "      <th>education</th>\n",
       "      <th>gender</th>\n",
       "      <th>recruitment_channel</th>\n",
       "      <th>no_of_trainings</th>\n",
       "      <th>age</th>\n",
       "      <th>previous_year_rating</th>\n",
       "      <th>length_of_service</th>\n",
       "      <th>KPIs_met &gt;80%</th>\n",
       "      <th>awards_won?</th>\n",
       "      <th>avg_training_score</th>\n",
       "      <th>is_promoted</th>\n",
       "    </tr>\n",
       "  </thead>\n",
       "  <tbody>\n",
       "    <tr>\n",
       "      <th>0</th>\n",
       "      <td>65438</td>\n",
       "      <td>1</td>\n",
       "      <td>7</td>\n",
       "      <td>2</td>\n",
       "      <td>0</td>\n",
       "      <td>1</td>\n",
       "      <td>1</td>\n",
       "      <td>35</td>\n",
       "      <td>5</td>\n",
       "      <td>8</td>\n",
       "      <td>1</td>\n",
       "      <td>0</td>\n",
       "      <td>49</td>\n",
       "      <td>0</td>\n",
       "    </tr>\n",
       "    <tr>\n",
       "      <th>1</th>\n",
       "      <td>65141</td>\n",
       "      <td>2</td>\n",
       "      <td>22</td>\n",
       "      <td>1</td>\n",
       "      <td>1</td>\n",
       "      <td>0</td>\n",
       "      <td>1</td>\n",
       "      <td>30</td>\n",
       "      <td>5</td>\n",
       "      <td>4</td>\n",
       "      <td>0</td>\n",
       "      <td>0</td>\n",
       "      <td>60</td>\n",
       "      <td>0</td>\n",
       "    </tr>\n",
       "    <tr>\n",
       "      <th>2</th>\n",
       "      <td>7513</td>\n",
       "      <td>1</td>\n",
       "      <td>19</td>\n",
       "      <td>1</td>\n",
       "      <td>1</td>\n",
       "      <td>1</td>\n",
       "      <td>1</td>\n",
       "      <td>34</td>\n",
       "      <td>3</td>\n",
       "      <td>7</td>\n",
       "      <td>0</td>\n",
       "      <td>0</td>\n",
       "      <td>50</td>\n",
       "      <td>0</td>\n",
       "    </tr>\n",
       "    <tr>\n",
       "      <th>3</th>\n",
       "      <td>2542</td>\n",
       "      <td>1</td>\n",
       "      <td>23</td>\n",
       "      <td>1</td>\n",
       "      <td>1</td>\n",
       "      <td>0</td>\n",
       "      <td>2</td>\n",
       "      <td>39</td>\n",
       "      <td>1</td>\n",
       "      <td>10</td>\n",
       "      <td>0</td>\n",
       "      <td>0</td>\n",
       "      <td>50</td>\n",
       "      <td>0</td>\n",
       "    </tr>\n",
       "    <tr>\n",
       "      <th>4</th>\n",
       "      <td>48945</td>\n",
       "      <td>4</td>\n",
       "      <td>26</td>\n",
       "      <td>1</td>\n",
       "      <td>1</td>\n",
       "      <td>0</td>\n",
       "      <td>1</td>\n",
       "      <td>45</td>\n",
       "      <td>3</td>\n",
       "      <td>2</td>\n",
       "      <td>0</td>\n",
       "      <td>0</td>\n",
       "      <td>73</td>\n",
       "      <td>0</td>\n",
       "    </tr>\n",
       "    <tr>\n",
       "      <th>...</th>\n",
       "      <td>...</td>\n",
       "      <td>...</td>\n",
       "      <td>...</td>\n",
       "      <td>...</td>\n",
       "      <td>...</td>\n",
       "      <td>...</td>\n",
       "      <td>...</td>\n",
       "      <td>...</td>\n",
       "      <td>...</td>\n",
       "      <td>...</td>\n",
       "      <td>...</td>\n",
       "      <td>...</td>\n",
       "      <td>...</td>\n",
       "      <td>...</td>\n",
       "    </tr>\n",
       "    <tr>\n",
       "      <th>54803</th>\n",
       "      <td>3030</td>\n",
       "      <td>4</td>\n",
       "      <td>14</td>\n",
       "      <td>1</td>\n",
       "      <td>1</td>\n",
       "      <td>1</td>\n",
       "      <td>1</td>\n",
       "      <td>48</td>\n",
       "      <td>3</td>\n",
       "      <td>17</td>\n",
       "      <td>0</td>\n",
       "      <td>0</td>\n",
       "      <td>78</td>\n",
       "      <td>0</td>\n",
       "    </tr>\n",
       "    <tr>\n",
       "      <th>54804</th>\n",
       "      <td>74592</td>\n",
       "      <td>2</td>\n",
       "      <td>27</td>\n",
       "      <td>2</td>\n",
       "      <td>0</td>\n",
       "      <td>0</td>\n",
       "      <td>1</td>\n",
       "      <td>37</td>\n",
       "      <td>2</td>\n",
       "      <td>6</td>\n",
       "      <td>0</td>\n",
       "      <td>0</td>\n",
       "      <td>56</td>\n",
       "      <td>0</td>\n",
       "    </tr>\n",
       "    <tr>\n",
       "      <th>54805</th>\n",
       "      <td>13918</td>\n",
       "      <td>5</td>\n",
       "      <td>1</td>\n",
       "      <td>1</td>\n",
       "      <td>1</td>\n",
       "      <td>0</td>\n",
       "      <td>1</td>\n",
       "      <td>27</td>\n",
       "      <td>5</td>\n",
       "      <td>3</td>\n",
       "      <td>1</td>\n",
       "      <td>0</td>\n",
       "      <td>79</td>\n",
       "      <td>0</td>\n",
       "    </tr>\n",
       "    <tr>\n",
       "      <th>54806</th>\n",
       "      <td>13614</td>\n",
       "      <td>1</td>\n",
       "      <td>9</td>\n",
       "      <td>0</td>\n",
       "      <td>1</td>\n",
       "      <td>1</td>\n",
       "      <td>1</td>\n",
       "      <td>29</td>\n",
       "      <td>1</td>\n",
       "      <td>2</td>\n",
       "      <td>0</td>\n",
       "      <td>0</td>\n",
       "      <td>45</td>\n",
       "      <td>0</td>\n",
       "    </tr>\n",
       "    <tr>\n",
       "      <th>54807</th>\n",
       "      <td>51526</td>\n",
       "      <td>7</td>\n",
       "      <td>22</td>\n",
       "      <td>1</td>\n",
       "      <td>1</td>\n",
       "      <td>0</td>\n",
       "      <td>1</td>\n",
       "      <td>27</td>\n",
       "      <td>1</td>\n",
       "      <td>5</td>\n",
       "      <td>0</td>\n",
       "      <td>0</td>\n",
       "      <td>49</td>\n",
       "      <td>0</td>\n",
       "    </tr>\n",
       "  </tbody>\n",
       "</table>\n",
       "<p>54808 rows × 14 columns</p>\n",
       "</div>"
      ],
      "text/plain": [
       "       employee_id  department  region  education  gender  \\\n",
       "0            65438           1       7          2       0   \n",
       "1            65141           2      22          1       1   \n",
       "2             7513           1      19          1       1   \n",
       "3             2542           1      23          1       1   \n",
       "4            48945           4      26          1       1   \n",
       "...            ...         ...     ...        ...     ...   \n",
       "54803         3030           4      14          1       1   \n",
       "54804        74592           2      27          2       0   \n",
       "54805        13918           5       1          1       1   \n",
       "54806        13614           1       9          0       1   \n",
       "54807        51526           7      22          1       1   \n",
       "\n",
       "       recruitment_channel  no_of_trainings  age  previous_year_rating  \\\n",
       "0                        1                1   35                     5   \n",
       "1                        0                1   30                     5   \n",
       "2                        1                1   34                     3   \n",
       "3                        0                2   39                     1   \n",
       "4                        0                1   45                     3   \n",
       "...                    ...              ...  ...                   ...   \n",
       "54803                    1                1   48                     3   \n",
       "54804                    0                1   37                     2   \n",
       "54805                    0                1   27                     5   \n",
       "54806                    1                1   29                     1   \n",
       "54807                    0                1   27                     1   \n",
       "\n",
       "       length_of_service  KPIs_met >80%  awards_won?  avg_training_score  \\\n",
       "0                      8              1            0                  49   \n",
       "1                      4              0            0                  60   \n",
       "2                      7              0            0                  50   \n",
       "3                     10              0            0                  50   \n",
       "4                      2              0            0                  73   \n",
       "...                  ...            ...          ...                 ...   \n",
       "54803                 17              0            0                  78   \n",
       "54804                  6              0            0                  56   \n",
       "54805                  3              1            0                  79   \n",
       "54806                  2              0            0                  45   \n",
       "54807                  5              0            0                  49   \n",
       "\n",
       "       is_promoted  \n",
       "0                0  \n",
       "1                0  \n",
       "2                0  \n",
       "3                0  \n",
       "4                0  \n",
       "...            ...  \n",
       "54803            0  \n",
       "54804            0  \n",
       "54805            0  \n",
       "54806            0  \n",
       "54807            0  \n",
       "\n",
       "[54808 rows x 14 columns]"
      ]
     },
     "execution_count": 498,
     "metadata": {},
     "output_type": "execute_result"
    }
   ],
   "source": [
    "# Частично отрисуем этот датасет на экран\n",
    "df_hr"
   ]
  },
  {
   "cell_type": "code",
   "execution_count": 499,
   "id": "1c34ab59-88a5-4ee2-83a1-c095ee1c7df5",
   "metadata": {},
   "outputs": [
    {
     "name": "stdout",
     "output_type": "stream",
     "text": [
      "<class 'pandas.core.frame.DataFrame'>\n",
      "RangeIndex: 54808 entries, 0 to 54807\n",
      "Data columns (total 14 columns):\n",
      " #   Column                Non-Null Count  Dtype\n",
      "---  ------                --------------  -----\n",
      " 0   employee_id           54808 non-null  int64\n",
      " 1   department            54808 non-null  int64\n",
      " 2   region                54808 non-null  int64\n",
      " 3   education             54808 non-null  int64\n",
      " 4   gender                54808 non-null  int64\n",
      " 5   recruitment_channel   54808 non-null  int64\n",
      " 6   no_of_trainings       54808 non-null  int64\n",
      " 7   age                   54808 non-null  int64\n",
      " 8   previous_year_rating  54808 non-null  int64\n",
      " 9   length_of_service     54808 non-null  int64\n",
      " 10  KPIs_met >80%         54808 non-null  int64\n",
      " 11  awards_won?           54808 non-null  int64\n",
      " 12  avg_training_score    54808 non-null  int64\n",
      " 13  is_promoted           54808 non-null  int64\n",
      "dtypes: int64(14)\n",
      "memory usage: 5.9 MB\n"
     ]
    }
   ],
   "source": [
    "# Проверим датасет на наличие пустых значений при помощи метода .info()\n",
    "df_hr.info()"
   ]
  },
  {
   "cell_type": "code",
   "execution_count": 500,
   "id": "b80890ff-6bf5-47b6-ab02-53187182c400",
   "metadata": {},
   "outputs": [
    {
     "data": {
      "text/plain": [
       "employee_id             0\n",
       "department              0\n",
       "region                  0\n",
       "education               0\n",
       "gender                  0\n",
       "recruitment_channel     0\n",
       "no_of_trainings         0\n",
       "age                     0\n",
       "previous_year_rating    0\n",
       "length_of_service       0\n",
       "KPIs_met >80%           0\n",
       "awards_won?             0\n",
       "avg_training_score      0\n",
       "is_promoted             0\n",
       "dtype: int64"
      ]
     },
     "execution_count": 500,
     "metadata": {},
     "output_type": "execute_result"
    }
   ],
   "source": [
    "# Все данные были переведны в int64 с помощью экселя. Как мы не видим, по некоторым параметрам у нас были пустые значения (но мы все исправили в самом csv файле), вполне ожидаемая ситуация для такой \n",
    "# выборки, особенно в отношении вопросов о рейтинге за прошлый год. Используем функцию Кумара для подсчета количества пустых значений\n",
    "df_hr.isnull().sum()"
   ]
  },
  {
   "cell_type": "code",
   "execution_count": 501,
   "id": "5fc180d2-a4be-45fa-81cc-def4bcf5e63e",
   "metadata": {},
   "outputs": [],
   "source": [
    "# Нулевых значений нет, но они были. Чтобы от них избавиться я привел данные к нормальному виду для анализа, я это сделал через эксель, ибо необходимые функции кода мне не известны, а в экселе все быстро \n",
    "# и удобно. Меняем значение \",,\" на \",0,\" чтобы не было пустых значений в дата сете. Далее преобразуем в числовые данные следующие столбцы: регион (просто цифры, а не region_ и цифра), \n",
    "# образование (0 - отсутствие и Below Secondary, уже введено, 1 - Bachelor's, 2 - Master's & above), пол (1 - мужчины, 0 - женщины) и источник рекрутмента (другие - 0, сорсинг - 1, referred - 2). \n",
    "# Много цифр придется делать с департмаентами, проражируем их по количеству сотрдуников:\n",
    "# (Sales & Marketing - 1, Operations - 2, Procurement - 3, Technology - 4, Analytics - 5, Finance - 6, HR - 7, Legal - 8, R&D - 9)"
   ]
  },
  {
   "cell_type": "code",
   "execution_count": 502,
   "id": "c30ce652-64b4-492e-9048-18562152262f",
   "metadata": {},
   "outputs": [
    {
     "data": {
      "text/plain": [
       "1    16840\n",
       "2    11348\n",
       "3     7138\n",
       "4     7138\n",
       "5     5352\n",
       "6     2536\n",
       "7     2418\n",
       "8     1039\n",
       "9      999\n",
       "Name: department, dtype: int64"
      ]
     },
     "execution_count": 502,
     "metadata": {},
     "output_type": "execute_result"
    }
   ],
   "source": [
    "# Проверим ранжирование по департаментам, получилось ли распределить их верно по количеству сотрудников \n",
    "\n",
    "df_hr['department'].value_counts()"
   ]
  },
  {
   "cell_type": "code",
   "execution_count": 503,
   "id": "ab21d368-0a27-416d-9803-e418fb1cd4e2",
   "metadata": {},
   "outputs": [],
   "source": [
    "# Отлично, наш датасет готов к работе. Обычно над его чисткой работают на слудющих этапах, но для меня дело принципа избавиться от всех косяков в начале аналзиа. Перейдем к разведочному анализу"
   ]
  },
  {
   "cell_type": "code",
   "execution_count": 504,
   "id": "c0a65cb3-497c-42f1-8023-d8793e2c7828",
   "metadata": {},
   "outputs": [
    {
     "data": {
      "text/plain": [
       "<AxesSubplot:xlabel='avg_training_score'>"
      ]
     },
     "execution_count": 504,
     "metadata": {},
     "output_type": "execute_result"
    },
    {
     "data": {
      "image/png": "[encoded data removed]",
      "text/plain": [
       "<Figure size 432x288 with 1 Axes>"
      ]
     },
     "metadata": {},
     "output_type": "display_data"
    }
   ],
   "source": [
    "# Показателем с наибольшим числом вариантов ответа является средняя оценка за тренинги, крайне интересный показатель, нарисуем для него боксплот\n",
    "sns.boxplot(x=df_hr[\"avg_training_score\"])"
   ]
  },
  {
   "cell_type": "code",
   "execution_count": 505,
   "id": "5cd4e5ee-3b2a-4a50-b9d7-b9fef6719be6",
   "metadata": {},
   "outputs": [],
   "source": [
    "# Интересно, сущетвенных разбросов не наблюдается, жаль, что основной массив вариантов не доходит до 80, максимумом мы видим число, приближенное к 100. Ну зато значений, существенно меньших 40 не имеется, \n",
    "# может тут все не так уж и плохо. Существенных выбросов в данном случае не наблюдаем, распределение смахивает на нормальное "
   ]
  },
  {
   "cell_type": "code",
   "execution_count": 506,
   "id": "e7d0f160-173d-483e-bb6f-4dba99e24c1e",
   "metadata": {},
   "outputs": [
    {
     "data": {
      "text/plain": [
       "Text(0, 0.5, 'Amount of employees')"
      ]
     },
     "execution_count": 506,
     "metadata": {},
     "output_type": "execute_result"
    },
    {
     "data": {
      "image/png": "[encoded data removed]",
      "text/plain": [
       "<Figure size 432x288 with 1 Axes>"
      ]
     },
     "metadata": {},
     "output_type": "display_data"
    }
   ],
   "source": [
    "# Отойдем от боксплотов и перейдем к любимейшим гистограммам. Хочется посмотреть, как долго сотрудники работают в нашей компании\n",
    "\n",
    "plt.hist(df_hr['length_of_service'], color = 'blue', edgecolor = 'black',\n",
    "         bins = int(180/5))\n",
    "\n",
    "# Add labels\n",
    "plt.title('Histogram of length of service in our company')\n",
    "plt.xlabel('Years')\n",
    "plt.ylabel('Amount of employees')"
   ]
  },
  {
   "cell_type": "code",
   "execution_count": 507,
   "id": "be713445-d40b-45bb-98f9-a2631ec28e39",
   "metadata": {},
   "outputs": [
    {
     "data": {
      "text/plain": [
       "5.865512333965844"
      ]
     },
     "execution_count": 507,
     "metadata": {},
     "output_type": "execute_result"
    }
   ],
   "source": [
    "# Хрочется получить больше информации, посмотрим среднее значение времени работы в компании наших сотрудников\n",
    "np.mean(df_hr.length_of_service)"
   ]
  },
  {
   "cell_type": "code",
   "execution_count": 508,
   "id": "d74f7a55-4ab9-4b49-86b5-f24d51283eae",
   "metadata": {},
   "outputs": [],
   "source": [
    "# Почти 6 лет, неплохо. Как мы видим по гистаграмме, в нашей компании наблюдается приятный баланс ньюфагов и олдов! "
   ]
  },
  {
   "cell_type": "code",
   "execution_count": 509,
   "id": "a1e36238-6e66-41e1-bf40-1e0e9732dc53",
   "metadata": {},
   "outputs": [
    {
     "data": {
      "text/plain": [
       "4668"
      ]
     },
     "execution_count": 509,
     "metadata": {},
     "output_type": "execute_result"
    }
   ],
   "source": [
    "# Так, наш информатор сообщал о повышении 5% сотрудников за год, давайте посомтрим на эти данные в конкретных цифрах, выясним, сколько у нас счастличвчиков в этом году:\n",
    "df_hr['is_promoted'].sum()"
   ]
  },
  {
   "cell_type": "code",
   "execution_count": 510,
   "id": "49a2d8d1-56c0-4d6e-adf1-41fe29977fbd",
   "metadata": {},
   "outputs": [
    {
     "data": {
      "text/plain": [
       "54808"
      ]
     },
     "execution_count": 510,
     "metadata": {},
     "output_type": "execute_result"
    }
   ],
   "source": [
    "# Теперь хитрым способом посмотрим, сколько у нас сотрудников в целом, можно конечно посмотреть количество строк, но лучше вспомним разницу между сам и каунт, не зря же я данные приведены в значениях 0 и 1\n",
    "df_hr['is_promoted'].count()"
   ]
  },
  {
   "cell_type": "code",
   "execution_count": 511,
   "id": "bb6f6194-6a08-464f-8a88-74a67ad5ce5c",
   "metadata": {},
   "outputs": [
    {
     "data": {
      "text/html": [
       "<div>\n",
       "<style scoped>\n",
       "    .dataframe tbody tr th:only-of-type {\n",
       "        vertical-align: middle;\n",
       "    }\n",
       "\n",
       "    .dataframe tbody tr th {\n",
       "        vertical-align: top;\n",
       "    }\n",
       "\n",
       "    .dataframe thead th {\n",
       "        text-align: right;\n",
       "    }\n",
       "</style>\n",
       "<table border=\"1\" class=\"dataframe\">\n",
       "  <thead>\n",
       "    <tr style=\"text-align: right;\">\n",
       "      <th></th>\n",
       "      <th>employee_id</th>\n",
       "      <th>department</th>\n",
       "      <th>region</th>\n",
       "      <th>education</th>\n",
       "      <th>gender</th>\n",
       "      <th>recruitment_channel</th>\n",
       "      <th>no_of_trainings</th>\n",
       "      <th>age</th>\n",
       "      <th>previous_year_rating</th>\n",
       "      <th>length_of_service</th>\n",
       "      <th>KPIs_met &gt;80%</th>\n",
       "      <th>awards_won?</th>\n",
       "      <th>avg_training_score</th>\n",
       "      <th>is_promoted</th>\n",
       "    </tr>\n",
       "  </thead>\n",
       "  <tbody>\n",
       "    <tr>\n",
       "      <th>11</th>\n",
       "      <td>49017</td>\n",
       "      <td>1</td>\n",
       "      <td>7</td>\n",
       "      <td>1</td>\n",
       "      <td>0</td>\n",
       "      <td>1</td>\n",
       "      <td>1</td>\n",
       "      <td>35</td>\n",
       "      <td>5</td>\n",
       "      <td>3</td>\n",
       "      <td>1</td>\n",
       "      <td>0</td>\n",
       "      <td>50</td>\n",
       "      <td>1</td>\n",
       "    </tr>\n",
       "    <tr>\n",
       "      <th>39</th>\n",
       "      <td>58304</td>\n",
       "      <td>1</td>\n",
       "      <td>28</td>\n",
       "      <td>1</td>\n",
       "      <td>1</td>\n",
       "      <td>1</td>\n",
       "      <td>1</td>\n",
       "      <td>33</td>\n",
       "      <td>5</td>\n",
       "      <td>6</td>\n",
       "      <td>1</td>\n",
       "      <td>0</td>\n",
       "      <td>51</td>\n",
       "      <td>1</td>\n",
       "    </tr>\n",
       "    <tr>\n",
       "      <th>60</th>\n",
       "      <td>17673</td>\n",
       "      <td>1</td>\n",
       "      <td>4</td>\n",
       "      <td>2</td>\n",
       "      <td>1</td>\n",
       "      <td>0</td>\n",
       "      <td>1</td>\n",
       "      <td>50</td>\n",
       "      <td>4</td>\n",
       "      <td>17</td>\n",
       "      <td>1</td>\n",
       "      <td>0</td>\n",
       "      <td>47</td>\n",
       "      <td>1</td>\n",
       "    </tr>\n",
       "    <tr>\n",
       "      <th>66</th>\n",
       "      <td>77981</td>\n",
       "      <td>6</td>\n",
       "      <td>22</td>\n",
       "      <td>1</td>\n",
       "      <td>1</td>\n",
       "      <td>0</td>\n",
       "      <td>1</td>\n",
       "      <td>27</td>\n",
       "      <td>0</td>\n",
       "      <td>1</td>\n",
       "      <td>1</td>\n",
       "      <td>1</td>\n",
       "      <td>58</td>\n",
       "      <td>1</td>\n",
       "    </tr>\n",
       "    <tr>\n",
       "      <th>67</th>\n",
       "      <td>16502</td>\n",
       "      <td>1</td>\n",
       "      <td>22</td>\n",
       "      <td>1</td>\n",
       "      <td>1</td>\n",
       "      <td>1</td>\n",
       "      <td>1</td>\n",
       "      <td>27</td>\n",
       "      <td>0</td>\n",
       "      <td>1</td>\n",
       "      <td>0</td>\n",
       "      <td>0</td>\n",
       "      <td>61</td>\n",
       "      <td>1</td>\n",
       "    </tr>\n",
       "  </tbody>\n",
       "</table>\n",
       "</div>"
      ],
      "text/plain": [
       "    employee_id  department  region  education  gender  recruitment_channel  \\\n",
       "11        49017           1       7          1       0                    1   \n",
       "39        58304           1      28          1       1                    1   \n",
       "60        17673           1       4          2       1                    0   \n",
       "66        77981           6      22          1       1                    0   \n",
       "67        16502           1      22          1       1                    1   \n",
       "\n",
       "    no_of_trainings  age  previous_year_rating  length_of_service  \\\n",
       "11                1   35                     5                  3   \n",
       "39                1   33                     5                  6   \n",
       "60                1   50                     4                 17   \n",
       "66                1   27                     0                  1   \n",
       "67                1   27                     0                  1   \n",
       "\n",
       "    KPIs_met >80%  awards_won?  avg_training_score  is_promoted  \n",
       "11              1            0                  50            1  \n",
       "39              1            0                  51            1  \n",
       "60              1            0                  47            1  \n",
       "66              1            1                  58            1  \n",
       "67              0            0                  61            1  "
      ]
     },
     "execution_count": 511,
     "metadata": {},
     "output_type": "execute_result"
    }
   ],
   "source": [
    "# Почти 5 тысяч повышений, очень неплохо, хотя сотрудников у нас тоже туча. Процент ближе к 8, но да ладно, идем дальше.\n",
    "\n",
    "# Выделим в отдельные массивы сотрудников в зависимости от их повышения в этом году\n",
    "df_hr_g1 = df_hr[df_hr['is_promoted'] == 1]\n",
    "df_hr_g0 = df_hr[df_hr['is_promoted'] == 0]\n",
    "\n",
    "# И сразу проверим что сработало корректно\n",
    "df_hr_g1.head()"
   ]
  },
  {
   "cell_type": "code",
   "execution_count": 512,
   "id": "b200e9b8-5727-4b24-b42a-33e2c1e45846",
   "metadata": {},
   "outputs": [
    {
     "data": {
      "text/plain": [
       "Text(0, 0.5, 'Amount of employees')"
      ]
     },
     "execution_count": 512,
     "metadata": {},
     "output_type": "execute_result"
    },
    {
     "data": {
      "image/png": "[encoded data removed]",
      "text/plain": [
       "<Figure size 432x288 with 1 Axes>"
      ]
     },
     "metadata": {},
     "output_type": "display_data"
    }
   ],
   "source": [
    "# А теперь посмотрим визуально, как на повышения влияет рейтинг сотрудника за прошлый год \n",
    "plt.hist(df_hr_g0['previous_year_rating'], color = 'darkblue', edgecolor = 'black',\n",
    "         bins = int(180/5))\n",
    "\n",
    "plt.hist(df_hr_g1['previous_year_rating'], color = 'orange', edgecolor = 'black',\n",
    "         bins = int(180/5))\n",
    "\n",
    "# Add labels\n",
    "plt.title('Histogram of previous year ratings in our company')\n",
    "plt.xlabel('Number of points')\n",
    "plt.ylabel('Amount of employees')"
   ]
  },
  {
   "cell_type": "code",
   "execution_count": 513,
   "id": "c9b067a0-81c9-47cb-ba9f-45bb4d56d470",
   "metadata": {},
   "outputs": [
    {
     "data": {
      "text/plain": [
       "Text(0, 0.5, 'Amount of employees')"
      ]
     },
     "execution_count": 513,
     "metadata": {},
     "output_type": "execute_result"
    },
    {
     "data": {
      "image/png": "[encoded data removed]",
      "text/plain": [
       "<Figure size 432x288 with 1 Axes>"
      ]
     },
     "metadata": {},
     "output_type": "display_data"
    }
   ],
   "source": [
    "# Хм, очень странная тенденция. Прям совсем плохих перформеров почти не повышают, но почему так много ребят с тройками? Сравним с тем же опытом работы в компании \n",
    "\n",
    "plt.hist(df_hr_g0['length_of_service'], color = 'darkblue', edgecolor = 'black',\n",
    "         bins = int(180/5))\n",
    "\n",
    "plt.hist(df_hr_g1['length_of_service'], color = 'orange', edgecolor = 'black',\n",
    "         bins = int(180/5))\n",
    "\n",
    "# Add labels\n",
    "plt.title('Histogram of previous year ratings in our company')\n",
    "plt.xlabel('Number of points')\n",
    "plt.ylabel('Amount of employees')"
   ]
  },
  {
   "cell_type": "code",
   "execution_count": 514,
   "id": "6b03e540-328e-4b59-bb4e-f69217e98492",
   "metadata": {},
   "outputs": [
    {
     "data": {
      "text/html": [
       "<div>\n",
       "<style scoped>\n",
       "    .dataframe tbody tr th:only-of-type {\n",
       "        vertical-align: middle;\n",
       "    }\n",
       "\n",
       "    .dataframe tbody tr th {\n",
       "        vertical-align: top;\n",
       "    }\n",
       "\n",
       "    .dataframe thead th {\n",
       "        text-align: right;\n",
       "    }\n",
       "</style>\n",
       "<table border=\"1\" class=\"dataframe\">\n",
       "  <thead>\n",
       "    <tr style=\"text-align: right;\">\n",
       "      <th></th>\n",
       "      <th>employee_id</th>\n",
       "      <th>department</th>\n",
       "      <th>region</th>\n",
       "      <th>education</th>\n",
       "      <th>gender</th>\n",
       "      <th>recruitment_channel</th>\n",
       "      <th>no_of_trainings</th>\n",
       "      <th>age</th>\n",
       "      <th>previous_year_rating</th>\n",
       "      <th>length_of_service</th>\n",
       "      <th>KPIs_met &gt;80%</th>\n",
       "      <th>awards_won?</th>\n",
       "      <th>avg_training_score</th>\n",
       "      <th>is_promoted</th>\n",
       "    </tr>\n",
       "  </thead>\n",
       "  <tbody>\n",
       "    <tr>\n",
       "      <th>employee_id</th>\n",
       "      <td>1.000</td>\n",
       "      <td>0.002</td>\n",
       "      <td>0.004</td>\n",
       "      <td>0.002</td>\n",
       "      <td>-0.002</td>\n",
       "      <td>0.006</td>\n",
       "      <td>-0.005</td>\n",
       "      <td>0.000</td>\n",
       "      <td>0.002</td>\n",
       "      <td>0.001</td>\n",
       "      <td>-0.003</td>\n",
       "      <td>0.008</td>\n",
       "      <td>-0.001</td>\n",
       "      <td>0.001</td>\n",
       "    </tr>\n",
       "    <tr>\n",
       "      <th>department</th>\n",
       "      <td>0.002</td>\n",
       "      <td>1.000</td>\n",
       "      <td>-0.005</td>\n",
       "      <td>0.021</td>\n",
       "      <td>0.008</td>\n",
       "      <td>-0.002</td>\n",
       "      <td>-0.004</td>\n",
       "      <td>-0.096</td>\n",
       "      <td>0.033</td>\n",
       "      <td>-0.087</td>\n",
       "      <td>0.058</td>\n",
       "      <td>0.004</td>\n",
       "      <td>0.518</td>\n",
       "      <td>0.002</td>\n",
       "    </tr>\n",
       "    <tr>\n",
       "      <th>region</th>\n",
       "      <td>0.004</td>\n",
       "      <td>-0.005</td>\n",
       "      <td>1.000</td>\n",
       "      <td>-0.055</td>\n",
       "      <td>0.106</td>\n",
       "      <td>-0.024</td>\n",
       "      <td>-0.004</td>\n",
       "      <td>-0.251</td>\n",
       "      <td>-0.042</td>\n",
       "      <td>-0.170</td>\n",
       "      <td>-0.009</td>\n",
       "      <td>0.006</td>\n",
       "      <td>0.029</td>\n",
       "      <td>-0.011</td>\n",
       "    </tr>\n",
       "    <tr>\n",
       "      <th>education</th>\n",
       "      <td>0.002</td>\n",
       "      <td>0.021</td>\n",
       "      <td>-0.055</td>\n",
       "      <td>1.000</td>\n",
       "      <td>-0.046</td>\n",
       "      <td>-0.010</td>\n",
       "      <td>-0.020</td>\n",
       "      <td>0.383</td>\n",
       "      <td>0.132</td>\n",
       "      <td>0.263</td>\n",
       "      <td>0.024</td>\n",
       "      <td>0.000</td>\n",
       "      <td>0.055</td>\n",
       "      <td>0.035</td>\n",
       "    </tr>\n",
       "    <tr>\n",
       "      <th>gender</th>\n",
       "      <td>-0.002</td>\n",
       "      <td>0.008</td>\n",
       "      <td>0.106</td>\n",
       "      <td>-0.046</td>\n",
       "      <td>1.000</td>\n",
       "      <td>0.009</td>\n",
       "      <td>0.085</td>\n",
       "      <td>-0.016</td>\n",
       "      <td>-0.025</td>\n",
       "      <td>-0.020</td>\n",
       "      <td>-0.037</td>\n",
       "      <td>0.002</td>\n",
       "      <td>-0.024</td>\n",
       "      <td>-0.011</td>\n",
       "    </tr>\n",
       "    <tr>\n",
       "      <th>recruitment_channel</th>\n",
       "      <td>0.006</td>\n",
       "      <td>-0.002</td>\n",
       "      <td>-0.024</td>\n",
       "      <td>-0.010</td>\n",
       "      <td>0.009</td>\n",
       "      <td>1.000</td>\n",
       "      <td>-0.015</td>\n",
       "      <td>-0.027</td>\n",
       "      <td>0.021</td>\n",
       "      <td>-0.015</td>\n",
       "      <td>0.019</td>\n",
       "      <td>-0.004</td>\n",
       "      <td>0.010</td>\n",
       "      <td>0.009</td>\n",
       "    </tr>\n",
       "    <tr>\n",
       "      <th>no_of_trainings</th>\n",
       "      <td>-0.005</td>\n",
       "      <td>-0.004</td>\n",
       "      <td>-0.004</td>\n",
       "      <td>-0.020</td>\n",
       "      <td>0.085</td>\n",
       "      <td>-0.015</td>\n",
       "      <td>1.000</td>\n",
       "      <td>-0.081</td>\n",
       "      <td>-0.064</td>\n",
       "      <td>-0.057</td>\n",
       "      <td>-0.046</td>\n",
       "      <td>-0.008</td>\n",
       "      <td>0.043</td>\n",
       "      <td>-0.025</td>\n",
       "    </tr>\n",
       "    <tr>\n",
       "      <th>age</th>\n",
       "      <td>0.000</td>\n",
       "      <td>-0.096</td>\n",
       "      <td>-0.251</td>\n",
       "      <td>0.383</td>\n",
       "      <td>-0.016</td>\n",
       "      <td>-0.027</td>\n",
       "      <td>-0.081</td>\n",
       "      <td>1.000</td>\n",
       "      <td>0.178</td>\n",
       "      <td>0.657</td>\n",
       "      <td>-0.026</td>\n",
       "      <td>-0.008</td>\n",
       "      <td>-0.048</td>\n",
       "      <td>-0.017</td>\n",
       "    </tr>\n",
       "    <tr>\n",
       "      <th>previous_year_rating</th>\n",
       "      <td>0.002</td>\n",
       "      <td>0.033</td>\n",
       "      <td>-0.042</td>\n",
       "      <td>0.132</td>\n",
       "      <td>-0.025</td>\n",
       "      <td>0.021</td>\n",
       "      <td>-0.064</td>\n",
       "      <td>0.178</td>\n",
       "      <td>1.000</td>\n",
       "      <td>0.191</td>\n",
       "      <td>0.275</td>\n",
       "      <td>0.021</td>\n",
       "      <td>0.059</td>\n",
       "      <td>0.126</td>\n",
       "    </tr>\n",
       "    <tr>\n",
       "      <th>length_of_service</th>\n",
       "      <td>0.001</td>\n",
       "      <td>-0.087</td>\n",
       "      <td>-0.170</td>\n",
       "      <td>0.263</td>\n",
       "      <td>-0.020</td>\n",
       "      <td>-0.015</td>\n",
       "      <td>-0.057</td>\n",
       "      <td>0.657</td>\n",
       "      <td>0.191</td>\n",
       "      <td>1.000</td>\n",
       "      <td>-0.078</td>\n",
       "      <td>-0.040</td>\n",
       "      <td>-0.038</td>\n",
       "      <td>-0.011</td>\n",
       "    </tr>\n",
       "    <tr>\n",
       "      <th>KPIs_met &gt;80%</th>\n",
       "      <td>-0.003</td>\n",
       "      <td>0.058</td>\n",
       "      <td>-0.009</td>\n",
       "      <td>0.024</td>\n",
       "      <td>-0.037</td>\n",
       "      <td>0.019</td>\n",
       "      <td>-0.046</td>\n",
       "      <td>-0.026</td>\n",
       "      <td>0.275</td>\n",
       "      <td>-0.078</td>\n",
       "      <td>1.000</td>\n",
       "      <td>0.097</td>\n",
       "      <td>0.078</td>\n",
       "      <td>0.222</td>\n",
       "    </tr>\n",
       "    <tr>\n",
       "      <th>awards_won?</th>\n",
       "      <td>0.008</td>\n",
       "      <td>0.004</td>\n",
       "      <td>0.006</td>\n",
       "      <td>0.000</td>\n",
       "      <td>0.002</td>\n",
       "      <td>-0.004</td>\n",
       "      <td>-0.008</td>\n",
       "      <td>-0.008</td>\n",
       "      <td>0.021</td>\n",
       "      <td>-0.040</td>\n",
       "      <td>0.097</td>\n",
       "      <td>1.000</td>\n",
       "      <td>0.072</td>\n",
       "      <td>0.196</td>\n",
       "    </tr>\n",
       "    <tr>\n",
       "      <th>avg_training_score</th>\n",
       "      <td>-0.001</td>\n",
       "      <td>0.518</td>\n",
       "      <td>0.029</td>\n",
       "      <td>0.055</td>\n",
       "      <td>-0.024</td>\n",
       "      <td>0.010</td>\n",
       "      <td>0.043</td>\n",
       "      <td>-0.048</td>\n",
       "      <td>0.059</td>\n",
       "      <td>-0.038</td>\n",
       "      <td>0.078</td>\n",
       "      <td>0.072</td>\n",
       "      <td>1.000</td>\n",
       "      <td>0.181</td>\n",
       "    </tr>\n",
       "    <tr>\n",
       "      <th>is_promoted</th>\n",
       "      <td>0.001</td>\n",
       "      <td>0.002</td>\n",
       "      <td>-0.011</td>\n",
       "      <td>0.035</td>\n",
       "      <td>-0.011</td>\n",
       "      <td>0.009</td>\n",
       "      <td>-0.025</td>\n",
       "      <td>-0.017</td>\n",
       "      <td>0.126</td>\n",
       "      <td>-0.011</td>\n",
       "      <td>0.222</td>\n",
       "      <td>0.196</td>\n",
       "      <td>0.181</td>\n",
       "      <td>1.000</td>\n",
       "    </tr>\n",
       "  </tbody>\n",
       "</table>\n",
       "</div>"
      ],
      "text/plain": [
       "                      employee_id  department  region  education  gender  \\\n",
       "employee_id                 1.000       0.002   0.004      0.002  -0.002   \n",
       "department                  0.002       1.000  -0.005      0.021   0.008   \n",
       "region                      0.004      -0.005   1.000     -0.055   0.106   \n",
       "education                   0.002       0.021  -0.055      1.000  -0.046   \n",
       "gender                     -0.002       0.008   0.106     -0.046   1.000   \n",
       "recruitment_channel         0.006      -0.002  -0.024     -0.010   0.009   \n",
       "no_of_trainings            -0.005      -0.004  -0.004     -0.020   0.085   \n",
       "age                         0.000      -0.096  -0.251      0.383  -0.016   \n",
       "previous_year_rating        0.002       0.033  -0.042      0.132  -0.025   \n",
       "length_of_service           0.001      -0.087  -0.170      0.263  -0.020   \n",
       "KPIs_met >80%              -0.003       0.058  -0.009      0.024  -0.037   \n",
       "awards_won?                 0.008       0.004   0.006      0.000   0.002   \n",
       "avg_training_score         -0.001       0.518   0.029      0.055  -0.024   \n",
       "is_promoted                 0.001       0.002  -0.011      0.035  -0.011   \n",
       "\n",
       "                      recruitment_channel  no_of_trainings    age  \\\n",
       "employee_id                         0.006           -0.005  0.000   \n",
       "department                         -0.002           -0.004 -0.096   \n",
       "region                             -0.024           -0.004 -0.251   \n",
       "education                          -0.010           -0.020  0.383   \n",
       "gender                              0.009            0.085 -0.016   \n",
       "recruitment_channel                 1.000           -0.015 -0.027   \n",
       "no_of_trainings                    -0.015            1.000 -0.081   \n",
       "age                                -0.027           -0.081  1.000   \n",
       "previous_year_rating                0.021           -0.064  0.178   \n",
       "length_of_service                  -0.015           -0.057  0.657   \n",
       "KPIs_met >80%                       0.019           -0.046 -0.026   \n",
       "awards_won?                        -0.004           -0.008 -0.008   \n",
       "avg_training_score                  0.010            0.043 -0.048   \n",
       "is_promoted                         0.009           -0.025 -0.017   \n",
       "\n",
       "                      previous_year_rating  length_of_service  KPIs_met >80%  \\\n",
       "employee_id                          0.002              0.001         -0.003   \n",
       "department                           0.033             -0.087          0.058   \n",
       "region                              -0.042             -0.170         -0.009   \n",
       "education                            0.132              0.263          0.024   \n",
       "gender                              -0.025             -0.020         -0.037   \n",
       "recruitment_channel                  0.021             -0.015          0.019   \n",
       "no_of_trainings                     -0.064             -0.057         -0.046   \n",
       "age                                  0.178              0.657         -0.026   \n",
       "previous_year_rating                 1.000              0.191          0.275   \n",
       "length_of_service                    0.191              1.000         -0.078   \n",
       "KPIs_met >80%                        0.275             -0.078          1.000   \n",
       "awards_won?                          0.021             -0.040          0.097   \n",
       "avg_training_score                   0.059             -0.038          0.078   \n",
       "is_promoted                          0.126             -0.011          0.222   \n",
       "\n",
       "                      awards_won?  avg_training_score  is_promoted  \n",
       "employee_id                 0.008              -0.001        0.001  \n",
       "department                  0.004               0.518        0.002  \n",
       "region                      0.006               0.029       -0.011  \n",
       "education                   0.000               0.055        0.035  \n",
       "gender                      0.002              -0.024       -0.011  \n",
       "recruitment_channel        -0.004               0.010        0.009  \n",
       "no_of_trainings            -0.008               0.043       -0.025  \n",
       "age                        -0.008              -0.048       -0.017  \n",
       "previous_year_rating        0.021               0.059        0.126  \n",
       "length_of_service          -0.040              -0.038       -0.011  \n",
       "KPIs_met >80%               0.097               0.078        0.222  \n",
       "awards_won?                 1.000               0.072        0.196  \n",
       "avg_training_score          0.072               1.000        0.181  \n",
       "is_promoted                 0.196               0.181        1.000  "
      ]
     },
     "execution_count": 514,
     "metadata": {},
     "output_type": "execute_result"
    }
   ],
   "source": [
    "# Хмммм, после 10 лет работы в компании мы сотрудников почти не повышаем. Очень странный претендент, по-моему мы напрашиваемся на их уход в другие компании, где они могут продложать разваиваться.\n",
    "\n",
    "# Ладно, наверное смотреть графы по всем столбцам с данными смысла особо нет, но подобные графики с разделениями по группам крайне эффективны и наглядны при решении нашей проблемы. \n",
    "# На последок для этой главы сделаем самое интересное - посмотрим корреляции\n",
    "\n",
    "# Pandas имеет волшебный метод, который сразу считает матрицу корреляций по всему фрейму\n",
    "df_hr.corr()"
   ]
  },
  {
   "cell_type": "code",
   "execution_count": 515,
   "id": "117e0ba5-bfcd-42b0-99d3-2b884565ffff",
   "metadata": {},
   "outputs": [],
   "source": [
    "# Полный облом, существенная корреляция наблюдается только между возрастом и опытом работы, ну ладно, это нас не остановит в формировании прогностической модели, передем же к ней"
   ]
  },
  {
   "cell_type": "markdown",
   "id": "a7d75b94-691e-4615-9ff6-9593c8bd31bf",
   "metadata": {},
   "source": [
    "# 3. Предварительная оценка возможных фич\n",
    "\n",
    "Главной фичей будет модель, которая предсказывает вероятность повышения сотрудника на основе его данных (которые по крайне мере имеются в нашей базе). Обучать нашу модель будем линейной регрессии, все рассматриваемые признаки находятся в формате int64, так что проблем возникнуть не должно. Для улучшения модели можем сделать скалирование, отрезать признаки с низким импортансем. "
   ]
  },
  {
   "cell_type": "markdown",
   "id": "d06cc61b-6750-4f9c-a00c-3691725fec49",
   "metadata": {},
   "source": [
    "# 4. Подготовка пайплайна данных, инжиниринг фич\n",
    "\n",
    "Мы уже поработали над устранением пустых значанеий в датасете и перевели все нечисловые значения к числовому формате в самом файле через эксель (вся информация об этом представлена в предыдущей главе). Так что теперь нам остается только разделить выборку на тренинговый и тестовый сет."
   ]
  },
  {
   "cell_type": "code",
   "execution_count": 516,
   "id": "43d255ba-6a46-4c5a-b20d-c17bd5de5746",
   "metadata": {},
   "outputs": [],
   "source": [
    "# Разобьем нашу выборку на пространство признаков (X) и ответов (y)\n",
    "\n",
    "X = df_hr[['department', 'region', 'education', 'gender', \n",
    "           'no_of_trainings', 'age', 'previous_year_rating', 'length_of_service', 'KPIs_met >80%', 'awards_won?', 'avg_training_score']]\n",
    "\n",
    "y = df_hr[['is_promoted']]"
   ]
  },
  {
   "cell_type": "code",
   "execution_count": 517,
   "id": "f18937c6-b75c-4df1-887e-fa8de1a194e1",
   "metadata": {},
   "outputs": [
    {
     "data": {
      "text/html": [
       "<div>\n",
       "<style scoped>\n",
       "    .dataframe tbody tr th:only-of-type {\n",
       "        vertical-align: middle;\n",
       "    }\n",
       "\n",
       "    .dataframe tbody tr th {\n",
       "        vertical-align: top;\n",
       "    }\n",
       "\n",
       "    .dataframe thead th {\n",
       "        text-align: right;\n",
       "    }\n",
       "</style>\n",
       "<table border=\"1\" class=\"dataframe\">\n",
       "  <thead>\n",
       "    <tr style=\"text-align: right;\">\n",
       "      <th></th>\n",
       "      <th>department</th>\n",
       "      <th>region</th>\n",
       "      <th>education</th>\n",
       "      <th>gender</th>\n",
       "      <th>no_of_trainings</th>\n",
       "      <th>age</th>\n",
       "      <th>previous_year_rating</th>\n",
       "      <th>length_of_service</th>\n",
       "      <th>KPIs_met &gt;80%</th>\n",
       "      <th>awards_won?</th>\n",
       "      <th>avg_training_score</th>\n",
       "    </tr>\n",
       "  </thead>\n",
       "  <tbody>\n",
       "    <tr>\n",
       "      <th>0</th>\n",
       "      <td>1</td>\n",
       "      <td>7</td>\n",
       "      <td>2</td>\n",
       "      <td>0</td>\n",
       "      <td>1</td>\n",
       "      <td>35</td>\n",
       "      <td>5</td>\n",
       "      <td>8</td>\n",
       "      <td>1</td>\n",
       "      <td>0</td>\n",
       "      <td>49</td>\n",
       "    </tr>\n",
       "    <tr>\n",
       "      <th>1</th>\n",
       "      <td>2</td>\n",
       "      <td>22</td>\n",
       "      <td>1</td>\n",
       "      <td>1</td>\n",
       "      <td>1</td>\n",
       "      <td>30</td>\n",
       "      <td>5</td>\n",
       "      <td>4</td>\n",
       "      <td>0</td>\n",
       "      <td>0</td>\n",
       "      <td>60</td>\n",
       "    </tr>\n",
       "    <tr>\n",
       "      <th>2</th>\n",
       "      <td>1</td>\n",
       "      <td>19</td>\n",
       "      <td>1</td>\n",
       "      <td>1</td>\n",
       "      <td>1</td>\n",
       "      <td>34</td>\n",
       "      <td>3</td>\n",
       "      <td>7</td>\n",
       "      <td>0</td>\n",
       "      <td>0</td>\n",
       "      <td>50</td>\n",
       "    </tr>\n",
       "    <tr>\n",
       "      <th>3</th>\n",
       "      <td>1</td>\n",
       "      <td>23</td>\n",
       "      <td>1</td>\n",
       "      <td>1</td>\n",
       "      <td>2</td>\n",
       "      <td>39</td>\n",
       "      <td>1</td>\n",
       "      <td>10</td>\n",
       "      <td>0</td>\n",
       "      <td>0</td>\n",
       "      <td>50</td>\n",
       "    </tr>\n",
       "    <tr>\n",
       "      <th>4</th>\n",
       "      <td>4</td>\n",
       "      <td>26</td>\n",
       "      <td>1</td>\n",
       "      <td>1</td>\n",
       "      <td>1</td>\n",
       "      <td>45</td>\n",
       "      <td>3</td>\n",
       "      <td>2</td>\n",
       "      <td>0</td>\n",
       "      <td>0</td>\n",
       "      <td>73</td>\n",
       "    </tr>\n",
       "    <tr>\n",
       "      <th>...</th>\n",
       "      <td>...</td>\n",
       "      <td>...</td>\n",
       "      <td>...</td>\n",
       "      <td>...</td>\n",
       "      <td>...</td>\n",
       "      <td>...</td>\n",
       "      <td>...</td>\n",
       "      <td>...</td>\n",
       "      <td>...</td>\n",
       "      <td>...</td>\n",
       "      <td>...</td>\n",
       "    </tr>\n",
       "    <tr>\n",
       "      <th>54803</th>\n",
       "      <td>4</td>\n",
       "      <td>14</td>\n",
       "      <td>1</td>\n",
       "      <td>1</td>\n",
       "      <td>1</td>\n",
       "      <td>48</td>\n",
       "      <td>3</td>\n",
       "      <td>17</td>\n",
       "      <td>0</td>\n",
       "      <td>0</td>\n",
       "      <td>78</td>\n",
       "    </tr>\n",
       "    <tr>\n",
       "      <th>54804</th>\n",
       "      <td>2</td>\n",
       "      <td>27</td>\n",
       "      <td>2</td>\n",
       "      <td>0</td>\n",
       "      <td>1</td>\n",
       "      <td>37</td>\n",
       "      <td>2</td>\n",
       "      <td>6</td>\n",
       "      <td>0</td>\n",
       "      <td>0</td>\n",
       "      <td>56</td>\n",
       "    </tr>\n",
       "    <tr>\n",
       "      <th>54805</th>\n",
       "      <td>5</td>\n",
       "      <td>1</td>\n",
       "      <td>1</td>\n",
       "      <td>1</td>\n",
       "      <td>1</td>\n",
       "      <td>27</td>\n",
       "      <td>5</td>\n",
       "      <td>3</td>\n",
       "      <td>1</td>\n",
       "      <td>0</td>\n",
       "      <td>79</td>\n",
       "    </tr>\n",
       "    <tr>\n",
       "      <th>54806</th>\n",
       "      <td>1</td>\n",
       "      <td>9</td>\n",
       "      <td>0</td>\n",
       "      <td>1</td>\n",
       "      <td>1</td>\n",
       "      <td>29</td>\n",
       "      <td>1</td>\n",
       "      <td>2</td>\n",
       "      <td>0</td>\n",
       "      <td>0</td>\n",
       "      <td>45</td>\n",
       "    </tr>\n",
       "    <tr>\n",
       "      <th>54807</th>\n",
       "      <td>7</td>\n",
       "      <td>22</td>\n",
       "      <td>1</td>\n",
       "      <td>1</td>\n",
       "      <td>1</td>\n",
       "      <td>27</td>\n",
       "      <td>1</td>\n",
       "      <td>5</td>\n",
       "      <td>0</td>\n",
       "      <td>0</td>\n",
       "      <td>49</td>\n",
       "    </tr>\n",
       "  </tbody>\n",
       "</table>\n",
       "<p>54808 rows × 11 columns</p>\n",
       "</div>"
      ],
      "text/plain": [
       "       department  region  education  gender  no_of_trainings  age  \\\n",
       "0               1       7          2       0                1   35   \n",
       "1               2      22          1       1                1   30   \n",
       "2               1      19          1       1                1   34   \n",
       "3               1      23          1       1                2   39   \n",
       "4               4      26          1       1                1   45   \n",
       "...           ...     ...        ...     ...              ...  ...   \n",
       "54803           4      14          1       1                1   48   \n",
       "54804           2      27          2       0                1   37   \n",
       "54805           5       1          1       1                1   27   \n",
       "54806           1       9          0       1                1   29   \n",
       "54807           7      22          1       1                1   27   \n",
       "\n",
       "       previous_year_rating  length_of_service  KPIs_met >80%  awards_won?  \\\n",
       "0                         5                  8              1            0   \n",
       "1                         5                  4              0            0   \n",
       "2                         3                  7              0            0   \n",
       "3                         1                 10              0            0   \n",
       "4                         3                  2              0            0   \n",
       "...                     ...                ...            ...          ...   \n",
       "54803                     3                 17              0            0   \n",
       "54804                     2                  6              0            0   \n",
       "54805                     5                  3              1            0   \n",
       "54806                     1                  2              0            0   \n",
       "54807                     1                  5              0            0   \n",
       "\n",
       "       avg_training_score  \n",
       "0                      49  \n",
       "1                      60  \n",
       "2                      50  \n",
       "3                      50  \n",
       "4                      73  \n",
       "...                   ...  \n",
       "54803                  78  \n",
       "54804                  56  \n",
       "54805                  79  \n",
       "54806                  45  \n",
       "54807                  49  \n",
       "\n",
       "[54808 rows x 11 columns]"
      ]
     },
     "execution_count": 517,
     "metadata": {},
     "output_type": "execute_result"
    }
   ],
   "source": [
    "# В объекте X у нас оказываются признаки\n",
    "\n",
    "X"
   ]
  },
  {
   "cell_type": "code",
   "execution_count": 518,
   "id": "c33cc94f-a4b5-4b2f-ac60-ed0a43fd4cdf",
   "metadata": {},
   "outputs": [
    {
     "data": {
      "text/html": [
       "<div>\n",
       "<style scoped>\n",
       "    .dataframe tbody tr th:only-of-type {\n",
       "        vertical-align: middle;\n",
       "    }\n",
       "\n",
       "    .dataframe tbody tr th {\n",
       "        vertical-align: top;\n",
       "    }\n",
       "\n",
       "    .dataframe thead th {\n",
       "        text-align: right;\n",
       "    }\n",
       "</style>\n",
       "<table border=\"1\" class=\"dataframe\">\n",
       "  <thead>\n",
       "    <tr style=\"text-align: right;\">\n",
       "      <th></th>\n",
       "      <th>is_promoted</th>\n",
       "    </tr>\n",
       "  </thead>\n",
       "  <tbody>\n",
       "    <tr>\n",
       "      <th>0</th>\n",
       "      <td>0</td>\n",
       "    </tr>\n",
       "    <tr>\n",
       "      <th>1</th>\n",
       "      <td>0</td>\n",
       "    </tr>\n",
       "    <tr>\n",
       "      <th>2</th>\n",
       "      <td>0</td>\n",
       "    </tr>\n",
       "    <tr>\n",
       "      <th>3</th>\n",
       "      <td>0</td>\n",
       "    </tr>\n",
       "    <tr>\n",
       "      <th>4</th>\n",
       "      <td>0</td>\n",
       "    </tr>\n",
       "    <tr>\n",
       "      <th>...</th>\n",
       "      <td>...</td>\n",
       "    </tr>\n",
       "    <tr>\n",
       "      <th>54803</th>\n",
       "      <td>0</td>\n",
       "    </tr>\n",
       "    <tr>\n",
       "      <th>54804</th>\n",
       "      <td>0</td>\n",
       "    </tr>\n",
       "    <tr>\n",
       "      <th>54805</th>\n",
       "      <td>0</td>\n",
       "    </tr>\n",
       "    <tr>\n",
       "      <th>54806</th>\n",
       "      <td>0</td>\n",
       "    </tr>\n",
       "    <tr>\n",
       "      <th>54807</th>\n",
       "      <td>0</td>\n",
       "    </tr>\n",
       "  </tbody>\n",
       "</table>\n",
       "<p>54808 rows × 1 columns</p>\n",
       "</div>"
      ],
      "text/plain": [
       "       is_promoted\n",
       "0                0\n",
       "1                0\n",
       "2                0\n",
       "3                0\n",
       "4                0\n",
       "...            ...\n",
       "54803            0\n",
       "54804            0\n",
       "54805            0\n",
       "54806            0\n",
       "54807            0\n",
       "\n",
       "[54808 rows x 1 columns]"
      ]
     },
     "execution_count": 518,
     "metadata": {},
     "output_type": "execute_result"
    }
   ],
   "source": [
    "# в объекте 'y' у нас оказываются ответы для этих признаков\n",
    "\n",
    "y"
   ]
  },
  {
   "cell_type": "code",
   "execution_count": 519,
   "id": "3087875f-a7db-4ebd-859a-429e0b45ef8f",
   "metadata": {},
   "outputs": [
    {
     "name": "stdout",
     "output_type": "stream",
     "text": [
      "(43846, 11)\n",
      "(10962, 11)\n",
      "(43846, 1)\n",
      "(10962, 1)\n"
     ]
    }
   ],
   "source": [
    "X_train, X_test, Y_train, Y_test = train_test_split(X, y, test_size = 0.2, random_state=42)\n",
    "\n",
    "# Посмотрим каков у нас оказался размер объектов в трейне и тесте\n",
    "print(X_train.shape)\n",
    "print(X_test.shape)\n",
    "print(Y_train.shape)\n",
    "print(Y_test.shape)"
   ]
  },
  {
   "cell_type": "code",
   "execution_count": 520,
   "id": "3656ef75-edbe-47c0-84ec-db3ea69ab38c",
   "metadata": {},
   "outputs": [
    {
     "data": {
      "text/html": [
       "<div>\n",
       "<style scoped>\n",
       "    .dataframe tbody tr th:only-of-type {\n",
       "        vertical-align: middle;\n",
       "    }\n",
       "\n",
       "    .dataframe tbody tr th {\n",
       "        vertical-align: top;\n",
       "    }\n",
       "\n",
       "    .dataframe thead th {\n",
       "        text-align: right;\n",
       "    }\n",
       "</style>\n",
       "<table border=\"1\" class=\"dataframe\">\n",
       "  <thead>\n",
       "    <tr style=\"text-align: right;\">\n",
       "      <th></th>\n",
       "      <th>is_promoted</th>\n",
       "    </tr>\n",
       "  </thead>\n",
       "  <tbody>\n",
       "    <tr>\n",
       "      <th>40907</th>\n",
       "      <td>0</td>\n",
       "    </tr>\n",
       "    <tr>\n",
       "      <th>51939</th>\n",
       "      <td>0</td>\n",
       "    </tr>\n",
       "    <tr>\n",
       "      <th>6978</th>\n",
       "      <td>0</td>\n",
       "    </tr>\n",
       "    <tr>\n",
       "      <th>12814</th>\n",
       "      <td>0</td>\n",
       "    </tr>\n",
       "    <tr>\n",
       "      <th>22921</th>\n",
       "      <td>0</td>\n",
       "    </tr>\n",
       "    <tr>\n",
       "      <th>...</th>\n",
       "      <td>...</td>\n",
       "    </tr>\n",
       "    <tr>\n",
       "      <th>3458</th>\n",
       "      <td>0</td>\n",
       "    </tr>\n",
       "    <tr>\n",
       "      <th>26056</th>\n",
       "      <td>0</td>\n",
       "    </tr>\n",
       "    <tr>\n",
       "      <th>29981</th>\n",
       "      <td>0</td>\n",
       "    </tr>\n",
       "    <tr>\n",
       "      <th>44352</th>\n",
       "      <td>0</td>\n",
       "    </tr>\n",
       "    <tr>\n",
       "      <th>18295</th>\n",
       "      <td>0</td>\n",
       "    </tr>\n",
       "  </tbody>\n",
       "</table>\n",
       "<p>10962 rows × 1 columns</p>\n",
       "</div>"
      ],
      "text/plain": [
       "       is_promoted\n",
       "40907            0\n",
       "51939            0\n",
       "6978             0\n",
       "12814            0\n",
       "22921            0\n",
       "...            ...\n",
       "3458             0\n",
       "26056            0\n",
       "29981            0\n",
       "44352            0\n",
       "18295            0\n",
       "\n",
       "[10962 rows x 1 columns]"
      ]
     },
     "execution_count": 520,
     "metadata": {},
     "output_type": "execute_result"
    }
   ],
   "source": [
    "Y_test"
   ]
  },
  {
   "cell_type": "markdown",
   "id": "9b4daa22-0102-4fab-988a-8705b0166623",
   "metadata": {},
   "source": [
    "# 5. Подготовка и обучение модели, сравнение разных реализаций\n",
    "\n"
   ]
  },
  {
   "cell_type": "code",
   "execution_count": 521,
   "id": "6169c49c-64ac-427d-b78c-dcbf6e827dc1",
   "metadata": {},
   "outputs": [
    {
     "data": {
      "text/plain": [
       "LinearRegression()"
      ]
     },
     "execution_count": 521,
     "metadata": {},
     "output_type": "execute_result"
    }
   ],
   "source": [
    "lin_model = LinearRegression()\n",
    "\n",
    "lin_model.fit(X_train, Y_train)\n",
    "\n",
    "#В этот момент за кадром обучилась небольшая модель линейной регрессии.\n",
    "#Эта модель использовала зарплаты группы train (Y_train) как ответы и решила внутри себя систему линейных уравнений, назначив нашим признакам (X_train) некоторые веса."
   ]
  },
  {
   "cell_type": "code",
   "execution_count": 522,
   "id": "4fff9672-fc32-4295-824f-39d21f54ecfe",
   "metadata": {},
   "outputs": [
    {
     "name": "stdout",
     "output_type": "stream",
     "text": [
      "[[-0.01772773 -0.00060846  0.01478535  0.00594685 -0.01217703 -0.00189684\n",
      "   0.01260393  0.00105957  0.10105689  0.29974574  0.00460806]]\n"
     ]
    }
   ],
   "source": [
    "# посмотрим, какие из наших признаков оказались наиболее значимыми для определения зарплаты на объектах\n",
    "importance = lin_model.coef_\n",
    "\n",
    "print(importance)"
   ]
  },
  {
   "cell_type": "code",
   "execution_count": 523,
   "id": "8f8903c5-9d08-4f22-9152-65c59b03bdf9",
   "metadata": {},
   "outputs": [],
   "source": [
    "# Мде, импортанц конечно крайне невнушительный, спасибо составителю дата сета. Ну ладно, не сворачивать же всю проедланную работу, давайте работать хотя бы с этим"
   ]
  },
  {
   "cell_type": "code",
   "execution_count": 524,
   "id": "7b3c9a88-e696-4ce8-aba5-cae24669451d",
   "metadata": {},
   "outputs": [],
   "source": [
    "# Определим функцию оценки ошибки получившейся модели:\n",
    "\n",
    "def model_access(lin_model, X_train, X_test, Y_train, Y_test):\n",
    "\n",
    "    # model evaluation for training set\n",
    "    y_train_predict = lin_model.predict(X_train)\n",
    "    rmse = (np.sqrt(mean_squared_error(Y_train, y_train_predict)))\n",
    "    r2 = r2_score(Y_train, y_train_predict)\n",
    "\n",
    "    \n",
    "    print(\"\\n\")\n",
    "    print(\"The model performance for training set\")\n",
    "    print(\"--------------------------------------\")\n",
    "    print('RMSE is {}'.format(rmse))\n",
    "    print('R2 score is {}'.format(r2))\n",
    "    print(\"--------------------------------------\")\n",
    "    print(\"\\n\")\n",
    "\n",
    "    \n",
    "    # model evaluation for testing set\n",
    "    y_test_predict = lin_model.predict(X_test)\n",
    "    rmse = (np.sqrt(mean_squared_error(Y_test, y_test_predict)))\n",
    "    r2 = r2_score(Y_test, y_test_predict)\n",
    "\n",
    "    print(\"The model performance for testing set\")\n",
    "    print(\"--------------------------------------\")\n",
    "    print('RMSE is {}'.format(rmse))\n",
    "    print('R2 score is {}'.format(r2))"
   ]
  },
  {
   "cell_type": "code",
   "execution_count": 525,
   "id": "fc9de4d0-563f-4ed6-9080-e7651a0366f5",
   "metadata": {},
   "outputs": [
    {
     "data": {
      "text/plain": [
       "LinearRegression()"
      ]
     },
     "execution_count": 525,
     "metadata": {},
     "output_type": "execute_result"
    }
   ],
   "source": [
    "lin_model = LinearRegression()\n",
    "\n",
    "lin_model.fit(X_train, Y_train)\n",
    "\n"
   ]
  },
  {
   "cell_type": "code",
   "execution_count": 526,
   "id": "4a00a51f-9900-4b91-9683-d01c2e902ba3",
   "metadata": {},
   "outputs": [
    {
     "name": "stdout",
     "output_type": "stream",
     "text": [
      "\n",
      "\n",
      "The model performance for training set\n",
      "--------------------------------------\n",
      "RMSE is 0.2626371529220496\n",
      "R2 score is 0.12018428353685107\n",
      "--------------------------------------\n",
      "\n",
      "\n",
      "The model performance for testing set\n",
      "--------------------------------------\n",
      "RMSE is 0.25825794434497235\n",
      "R2 score is 0.12206523714930806\n"
     ]
    }
   ],
   "source": [
    "#Попробуем оценить, насколько наша модель хороша.\n",
    "#По канону оценку следует на двух выборках: на той, на которой модель тренировалась (X_train, Y_train) и на той, которую модель не видела совсем (X_test, Y_test)\n",
    "\n",
    "model_access(lin_model, X_train, X_test, Y_train, Y_test)"
   ]
  },
  {
   "cell_type": "code",
   "execution_count": 527,
   "id": "8b3728af-21ee-4851-9c8c-62ff7d94282e",
   "metadata": {},
   "outputs": [],
   "source": [
    "#.. RMSE  крайне далек от единицы, это - минус .. но RMSE тоже не велик, это - плю-ууууус !!.. \n",
    "\n",
    "# Ну что, модель готова. Правда импортанц у всех показателей вышел ужасно низкий, хотя подобный исход должен был быть очевидным еще на этапе рассмотрения корреляций, они были крайне низкими,\n",
    "# особенно с параметром получения повышения сотрудником. Ну да ладно, время уже 2 ночи и терять нам нечего, попробуем сделать эти цифры чуть чуть менее ужасными.\n",
    "\n",
    "# ОК, что мы можем теперь сделать? Модель учитывает все потенциально полезные признаки, но может заблуждаться относительно масштаба фичей, потому что использует числа из них \"как есть\" в уравнениях\n",
    "# регрессии. Чтобы получать адекватные значения коэффициентов весов модели надо их уравнять на некой общей шкале. Ну так объяснял процесс мой любимый преподаватель)))) \n",
    "\n"
   ]
  },
  {
   "cell_type": "code",
   "execution_count": 528,
   "id": "220f85a3-063c-4784-8ea0-6fa5b26c51b5",
   "metadata": {},
   "outputs": [],
   "source": [
    "def scaling(df):\n",
    "    scaler = MinMaxScaler() \n",
    "    data_scaled = scaler.fit_transform(df)\n",
    "    df_scaled = pd.DataFrame(data_scaled)\n",
    "    return df_scaled"
   ]
  },
  {
   "cell_type": "code",
   "execution_count": 529,
   "id": "3332fb3a-9239-403e-ad78-216da4cf26be",
   "metadata": {},
   "outputs": [
    {
     "name": "stdout",
     "output_type": "stream",
     "text": [
      "[[-0.14182183 -0.02007914  0.02957071  0.00594685 -0.10959325 -0.07587379\n",
      "   0.06301964  0.03814468  0.10105689  0.29974574  0.27648345]]\n"
     ]
    }
   ],
   "source": [
    "X_scaled = scaling(X)\n",
    "\n",
    "X_train, X_test, Y_train, Y_test = train_test_split(X_scaled, y, test_size = 0.2, random_state=42)\n",
    "\n",
    "lin_model = LinearRegression()\n",
    "lin_model.fit(X_train, Y_train)\n",
    "\n",
    "importance = lin_model.coef_\n",
    "print(importance)"
   ]
  },
  {
   "cell_type": "code",
   "execution_count": 530,
   "id": "0a80b96e-36b4-46fa-8821-c18827d43c3f",
   "metadata": {},
   "outputs": [
    {
     "name": "stdout",
     "output_type": "stream",
     "text": [
      "\n",
      "\n",
      "The model performance for training set\n",
      "--------------------------------------\n",
      "RMSE is 0.2626371529220496\n",
      "R2 score is 0.12018428353685107\n",
      "--------------------------------------\n",
      "\n",
      "\n",
      "The model performance for testing set\n",
      "--------------------------------------\n",
      "RMSE is 0.25825794434497235\n",
      "R2 score is 0.12206523714930817\n"
     ]
    }
   ],
   "source": [
    "model_access(lin_model, X_train, X_test, Y_train, Y_test)"
   ]
  },
  {
   "cell_type": "code",
   "execution_count": 531,
   "id": "de8e54fe-c3d5-4339-b616-c9555fabdb7b",
   "metadata": {},
   "outputs": [
    {
     "name": "stdout",
     "output_type": "stream",
     "text": [
      "[[-0.01380197  0.02360456 -0.04854041  0.06547733  0.10629412  0.32647184]]\n"
     ]
    }
   ],
   "source": [
    "# Да вроде ничего не поменялось, перейдем к нашему последнему оружию - урежем количество признаков, зачем нам этим низкоимпортные (да, я использую такое понятие) признаки\n",
    "\n",
    "X = df_hr[['department', 'education', \n",
    "           'no_of_trainings', 'previous_year_rating', 'KPIs_met >80%', 'awards_won?']]\n",
    "\n",
    "X_scaled = scaling(X)\n",
    "\n",
    "X_train, X_test, Y_train, Y_test = train_test_split(X_scaled, y, test_size = 0.2, random_state=42)\n",
    "\n",
    "lin_model = LinearRegression()\n",
    "lin_model.fit(X_train, Y_train)\n",
    "\n",
    "importance = lin_model.coef_\n",
    "print(importance)"
   ]
  },
  {
   "cell_type": "code",
   "execution_count": 532,
   "id": "58ac536f-0eb1-4c06-a1ca-8daa90a5a111",
   "metadata": {},
   "outputs": [
    {
     "name": "stdout",
     "output_type": "stream",
     "text": [
      "\n",
      "\n",
      "The model performance for training set\n",
      "--------------------------------------\n",
      "RMSE is 0.26800480633154466\n",
      "R2 score is 0.08385427956268254\n",
      "--------------------------------------\n",
      "\n",
      "\n",
      "The model performance for testing set\n",
      "--------------------------------------\n",
      "RMSE is 0.26284467254073557\n",
      "R2 score is 0.09060361395959615\n"
     ]
    }
   ],
   "source": [
    "model_access(lin_model, X_train, X_test, Y_train, Y_test)"
   ]
  },
  {
   "cell_type": "code",
   "execution_count": 533,
   "id": "7b97e116-2bd1-4aa6-a54f-11cb3e1c4817",
   "metadata": {},
   "outputs": [
    {
     "name": "stdout",
     "output_type": "stream",
     "text": [
      "[[0.06871909 0.10597645 0.3264092 ]]\n"
     ]
    }
   ],
   "source": [
    "# Ура, стало немного лучше! На последок попробуем урезать модель по макимуму до топ трех компонент по импортанс\n",
    "\n",
    "X = df_hr[[ 'previous_year_rating', 'KPIs_met >80%', 'awards_won?']]\n",
    "\n",
    "X_scaled = scaling(X)\n",
    "\n",
    "X_train, X_test, Y_train, Y_test = train_test_split(X_scaled, y, test_size = 0.2, random_state=42)\n",
    "\n",
    "lin_model = LinearRegression()\n",
    "lin_model.fit(X_train, Y_train)\n",
    "\n",
    "importance = lin_model.coef_\n",
    "print(importance)"
   ]
  },
  {
   "cell_type": "code",
   "execution_count": 534,
   "id": "3ad57e6a-c2b3-48a6-9eec-17ac0604fc42",
   "metadata": {},
   "outputs": [
    {
     "name": "stdout",
     "output_type": "stream",
     "text": [
      "\n",
      "\n",
      "The model performance for training set\n",
      "--------------------------------------\n",
      "RMSE is 0.2681206918358365\n",
      "R2 score is 0.08306182390608818\n",
      "--------------------------------------\n",
      "\n",
      "\n",
      "The model performance for testing set\n",
      "--------------------------------------\n",
      "RMSE is 0.262882753336771\n",
      "R2 score is 0.09034008914408909\n"
     ]
    }
   ],
   "source": [
    "model_access(lin_model, X_train, X_test, Y_train, Y_test)"
   ]
  },
  {
   "cell_type": "code",
   "execution_count": 535,
   "id": "0d76a5b2-687b-4c39-a48d-2e910d1fec2b",
   "metadata": {},
   "outputs": [
    {
     "data": {
      "text/plain": [
       "array([[0.77445271]])"
      ]
     },
     "execution_count": 535,
     "metadata": {},
     "output_type": "execute_result"
    }
   ],
   "source": [
    "# Вроде ничего крадинально не изменилось, а считать нам надо будет меньше, так что это вин вин - модель оставляем \n",
    "\n",
    "# Под конец опробуем нашу модель с рандомными параметрами потенциального кандидата на повышение и вычислим его шансы на успех \n",
    "\n",
    "lin_model.predict([[5,1,1]])"
   ]
  },
  {
   "cell_type": "code",
   "execution_count": 536,
   "id": "8fb9e969-07b2-4f0a-8091-1f8f9ab3b653",
   "metadata": {},
   "outputs": [],
   "source": [
    "# Ну у идеального кандидата по анализированным параметрам наблюдается почти 80% вероятность получить повышение, жаль не 100%, но естественно модель не настолько идеальна, да и в целом r2 не выстрелил"
   ]
  },
  {
   "cell_type": "markdown",
   "id": "a0d67d24-2815-4a56-a268-878d90bbfe8f",
   "metadata": {},
   "source": [
    "# 5. Выводы\n",
    "\n",
    "Ну что же, мы выявили ключевые факторы, которые влияют на повышение сотрудников в нашей компании: это рейтинг за предыдущий год, KPI больше 80% и наличие наград. К сожалению, эти параметры оставляют желать лучшего в связи с их слабой корреляцией с показателем наличия повышения, но лучших варинатов на данный момент у нас нет. Возможно эта проблема была существено решена, если бы данные KPI и наград были представлены в более динамичном варинте, например точные проценты закрытия KPI и точное количество наград, а не просто двоичный код, который мы имеем сейчас. От этого пострадала и разработанная модель, которая имеет низкую надежность, но это лучшее, что мы имеем на данный момент. Возможно в следующий раз стоит учеть больше показателей.\n",
    "\n",
    "Низкая надежность разработанной модели на основе анализа всех имеющихся данных говорит нам об одном: в нашей боливудской фирме действительно повышают кого попало, нам нужны более четкие критерии повышения, которые будут соблюдаться и отражаться в статистике, не зря народ негодовал и не зря мы провели наше исследование. "
   ]
  },
  {
   "cell_type": "code",
   "execution_count": null,
   "id": "e2724459-635e-492a-9309-5dc21e7aa902",
   "metadata": {},
   "outputs": [],
   "source": []
  }
 ],
 "metadata": {
  "kernelspec": {
   "display_name": "Python 3",
   "language": "python",
   "name": "python3"
  },
  "language_info": {
   "codemirror_mode": {
    "name": "ipython",
    "version": 3
   },
   "file_extension": ".py",
   "mimetype": "text/x-python",
   "name": "python",
   "nbconvert_exporter": "python",
   "pygments_lexer": "ipython3",
   "version": "3.8.8"
  }
 },
 "nbformat": 4,
 "nbformat_minor": 5
}
