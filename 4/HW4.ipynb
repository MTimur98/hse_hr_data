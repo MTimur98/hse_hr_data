{
 "cells": [
  {
   "cell_type": "code",
   "execution_count": 7,
   "id": "b27c0e59-9a4f-4b10-b0e3-a55b5d19e1de",
   "metadata": {},
   "outputs": [],
   "source": [
    "import sqlite3\n",
    "import pandas as pd"
   ]
  },
  {
   "cell_type": "code",
   "execution_count": 8,
   "id": "179a02a9-5dc2-4ef0-8c79-8aac826b7ca6",
   "metadata": {},
   "outputs": [],
   "source": [
    "con = sqlite3.connect('DBname.db')"
   ]
  },
  {
   "cell_type": "code",
   "execution_count": 9,
   "id": "5bbaa72c-b2bc-40e5-9518-034121c2a733",
   "metadata": {},
   "outputs": [],
   "source": [
    "task1 = pd.read_sql(\"\"\"\n",
    "\n",
    "    SELECT DISTINCT Employee\n",
    "    FROM EmployeePoints\n",
    "\n",
    "\"\"\", con)"
   ]
  },
  {
   "cell_type": "code",
   "execution_count": 10,
   "id": "ec12a15d-18e9-4c6b-b5df-98953b6302e4",
   "metadata": {},
   "outputs": [
    {
     "data": {
      "text/html": [
       "<div>\n",
       "<style scoped>\n",
       "    .dataframe tbody tr th:only-of-type {\n",
       "        vertical-align: middle;\n",
       "    }\n",
       "\n",
       "    .dataframe tbody tr th {\n",
       "        vertical-align: top;\n",
       "    }\n",
       "\n",
       "    .dataframe thead th {\n",
       "        text-align: right;\n",
       "    }\n",
       "</style>\n",
       "<table border=\"1\" class=\"dataframe\">\n",
       "  <thead>\n",
       "    <tr style=\"text-align: right;\">\n",
       "      <th></th>\n",
       "      <th>Employee</th>\n",
       "    </tr>\n",
       "  </thead>\n",
       "  <tbody>\n",
       "    <tr>\n",
       "      <th>0</th>\n",
       "      <td>Маша</td>\n",
       "    </tr>\n",
       "    <tr>\n",
       "      <th>1</th>\n",
       "      <td>Петя</td>\n",
       "    </tr>\n",
       "    <tr>\n",
       "      <th>2</th>\n",
       "      <td>Вася</td>\n",
       "    </tr>\n",
       "    <tr>\n",
       "      <th>3</th>\n",
       "      <td>Саша</td>\n",
       "    </tr>\n",
       "    <tr>\n",
       "      <th>4</th>\n",
       "      <td>Максим</td>\n",
       "    </tr>\n",
       "  </tbody>\n",
       "</table>\n",
       "</div>"
      ],
      "text/plain": [
       "  Employee\n",
       "0     Маша\n",
       "1     Петя\n",
       "2     Вася\n",
       "3     Саша\n",
       "4   Максим"
      ]
     },
     "execution_count": 10,
     "metadata": {},
     "output_type": "execute_result"
    }
   ],
   "source": [
    "# Напишите SELECT, который выводит список уникальных имен сотрудников.\n",
    "\n",
    "task1"
   ]
  },
  {
   "cell_type": "code",
   "execution_count": 11,
   "id": "43b8dfd3-03a6-48da-9eb8-7b0bffef0d03",
   "metadata": {},
   "outputs": [],
   "source": [
    "task2 = pd.read_sql(\"\"\"\n",
    "\n",
    "    SELECT Employee, \n",
    "    COUNT(Point) AS 'Number of 5s'\n",
    "    FROM EmployeePoints\n",
    "    WHERE Point = '5'\n",
    "    GROUP BY Employee\n",
    "    ORDER BY 'Number of 5s' ASC\n",
    "\n",
    "\"\"\", con)"
   ]
  },
  {
   "cell_type": "code",
   "execution_count": 12,
   "id": "92ee998a-183e-480c-82b0-8ce5ddfa61ca",
   "metadata": {},
   "outputs": [
    {
     "data": {
      "text/html": [
       "<div>\n",
       "<style scoped>\n",
       "    .dataframe tbody tr th:only-of-type {\n",
       "        vertical-align: middle;\n",
       "    }\n",
       "\n",
       "    .dataframe tbody tr th {\n",
       "        vertical-align: top;\n",
       "    }\n",
       "\n",
       "    .dataframe thead th {\n",
       "        text-align: right;\n",
       "    }\n",
       "</style>\n",
       "<table border=\"1\" class=\"dataframe\">\n",
       "  <thead>\n",
       "    <tr style=\"text-align: right;\">\n",
       "      <th></th>\n",
       "      <th>Employee</th>\n",
       "      <th>Number of 5s</th>\n",
       "    </tr>\n",
       "  </thead>\n",
       "  <tbody>\n",
       "    <tr>\n",
       "      <th>0</th>\n",
       "      <td>Маша</td>\n",
       "      <td>3</td>\n",
       "    </tr>\n",
       "    <tr>\n",
       "      <th>1</th>\n",
       "      <td>Саша</td>\n",
       "      <td>2</td>\n",
       "    </tr>\n",
       "  </tbody>\n",
       "</table>\n",
       "</div>"
      ],
      "text/plain": [
       "  Employee  Number of 5s\n",
       "0     Маша             3\n",
       "1     Саша             2"
      ]
     },
     "execution_count": 12,
     "metadata": {},
     "output_type": "execute_result"
    }
   ],
   "source": [
    "# Напишите SELECT, который выводит список сотрудников, упорядоченный по количеству полученных оценок \"5\", начиная с сотрудника, который получил их максимальное количество.\n",
    "\n",
    "task2"
   ]
  }
 ],
 "metadata": {
  "kernelspec": {
   "display_name": "Python 3",
   "language": "python",
   "name": "python3"
  },
  "language_info": {
   "codemirror_mode": {
    "name": "ipython",
    "version": 3
   },
   "file_extension": ".py",
   "mimetype": "text/x-python",
   "name": "python",
   "nbconvert_exporter": "python",
   "pygments_lexer": "ipython3",
   "version": "3.8.8"
  }
 },
 "nbformat": 4,
 "nbformat_minor": 5
}
